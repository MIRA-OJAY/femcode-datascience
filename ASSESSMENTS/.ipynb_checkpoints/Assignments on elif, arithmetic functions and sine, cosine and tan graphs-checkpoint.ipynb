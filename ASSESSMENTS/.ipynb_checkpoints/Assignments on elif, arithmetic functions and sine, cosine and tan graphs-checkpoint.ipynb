{
 "cells": [
  {
   "cell_type": "markdown",
   "metadata": {},
   "source": [
    "# elif Assignment"
   ]
  },
  {
   "cell_type": "code",
   "execution_count": null,
   "metadata": {},
   "outputs": [],
   "source": [
    "A=70-100\n",
    "B=60-69\n",
    "C=50-59\n",
    "D=45-49\n",
    "E=40-44\n",
    "F=0-39"
   ]
  },
  {
   "cell_type": "code",
   "execution_count": 7,
   "metadata": {},
   "outputs": [
    {
     "name": "stdout",
     "output_type": "stream",
     "text": [
      "Enter a student's grade80\n",
      "A\n"
     ]
    }
   ],
   "source": [
    "grade=int(input(\"Enter a student's grade\"))\n",
    "if grade>70:\n",
    "    print(\"A\")\n",
    "elif grade>60:\n",
    "    print(\"B\")\n",
    "elif grade>50:\n",
    "    print(\"c\")\n",
    "elif grade>45:\n",
    "    print(\"D\")\n",
    "elif grade>40:\n",
    "    print(\"E\")\n",
    "elif grade>0:\n",
    "    print(\"F\")"
   ]
  },
  {
   "cell_type": "code",
   "execution_count": 8,
   "metadata": {},
   "outputs": [
    {
     "name": "stdout",
     "output_type": "stream",
     "text": [
      "Enter a student's grade67\n",
      "B\n"
     ]
    }
   ],
   "source": [
    "grade=int(input(\"Enter a student's grade\"))\n",
    "if grade>70:\n",
    "    print(\"A\")\n",
    "elif grade>60:\n",
    "    print(\"B\")\n",
    "elif grade>50:\n",
    "    print(\"c\")\n",
    "elif grade>45:\n",
    "    print(\"D\")\n",
    "elif grade>40:\n",
    "    print(\"E\")\n",
    "elif grade>0:\n",
    "    print(\"F\")"
   ]
  },
  {
   "cell_type": "code",
   "execution_count": 9,
   "metadata": {},
   "outputs": [
    {
     "name": "stdout",
     "output_type": "stream",
     "text": [
      "Enter a student's grade56\n",
      "c\n"
     ]
    }
   ],
   "source": [
    "grade=int(input(\"Enter a student's grade\"))\n",
    "if grade>70:\n",
    "    print(\"A\")\n",
    "elif grade>60:\n",
    "    print(\"B\")\n",
    "elif grade>50:\n",
    "    print(\"c\")\n",
    "elif grade>45:\n",
    "    print(\"D\")\n",
    "elif grade>40:\n",
    "    print(\"E\")\n",
    "elif grade>0:\n",
    "    print(\"F\")"
   ]
  },
  {
   "cell_type": "code",
   "execution_count": 10,
   "metadata": {},
   "outputs": [
    {
     "name": "stdout",
     "output_type": "stream",
     "text": [
      "Enter a student's grade49\n",
      "D\n"
     ]
    }
   ],
   "source": [
    "grade=int(input(\"Enter a student's grade\"))\n",
    "if grade>70:\n",
    "    print(\"A\")\n",
    "elif grade>60:\n",
    "    print(\"B\")\n",
    "elif grade>50:\n",
    "    print(\"c\")\n",
    "elif grade>45:\n",
    "    print(\"D\")\n",
    "elif grade>40:\n",
    "    print(\"E\")\n",
    "elif grade>0:\n",
    "    print(\"F\")"
   ]
  },
  {
   "cell_type": "code",
   "execution_count": 11,
   "metadata": {},
   "outputs": [
    {
     "name": "stdout",
     "output_type": "stream",
     "text": [
      "Enter a student's grade44\n",
      "E\n"
     ]
    }
   ],
   "source": [
    "grade=int(input(\"Enter a student's grade\"))\n",
    "if grade>70:\n",
    "    print(\"A\")\n",
    "elif grade>60:\n",
    "    print(\"B\")\n",
    "elif grade>50:\n",
    "    print(\"c\")\n",
    "elif grade>45:\n",
    "    print(\"D\")\n",
    "elif grade>40:\n",
    "    print(\"E\")\n",
    "elif grade>0:\n",
    "    print(\"F\")"
   ]
  },
  {
   "cell_type": "code",
   "execution_count": 12,
   "metadata": {},
   "outputs": [
    {
     "name": "stdout",
     "output_type": "stream",
     "text": [
      "Enter a student's grade23\n",
      "F\n"
     ]
    }
   ],
   "source": [
    "grade=int(input(\"Enter a student's grade\"))\n",
    "if grade>70:\n",
    "    print(\"A\")\n",
    "elif grade>60:\n",
    "    print(\"B\")\n",
    "elif grade>50:\n",
    "    print(\"c\")\n",
    "elif grade>45:\n",
    "    print(\"D\")\n",
    "elif grade>40:\n",
    "    print(\"E\")\n",
    "elif grade>0:\n",
    "    print(\"F\")"
   ]
  },
  {
   "cell_type": "markdown",
   "metadata": {},
   "source": [
    "## Arithmetic Functions"
   ]
  },
  {
   "cell_type": "code",
   "execution_count": 13,
   "metadata": {},
   "outputs": [
    {
     "name": "stdout",
     "output_type": "stream",
     "text": [
      "length of the room in meters12.5\n",
      "width of the room in meters4.6\n",
      "The area of the room is 57.49999999999999 meters\n"
     ]
    }
   ],
   "source": [
    "length=float(input(\"length of the room in meters\"))\n",
    "width=float(input(\"width of the room in meters\"))\n",
    "area=length*width\n",
    "print(\"The area of the room is\",area, \"meters\")"
   ]
  },
  {
   "cell_type": "code",
   "execution_count": 14,
   "metadata": {},
   "outputs": [
    {
     "name": "stdout",
     "output_type": "stream",
     "text": [
      "length of the farmers Field in feets500\n",
      "width of the farmers field in feets100\n",
      "The area of the farmer's field is 1.147842056932966 acres\n"
     ]
    }
   ],
   "source": [
    "length=int(input(\"length of the farmers Field in feets\"))\n",
    "width=int(input(\"width of the farmers field in feets\"))\n",
    "Area=length*width\n",
    "Area_in_acres=Area/43560\n",
    "print(\"The area of the farmer's field is\", Area_in_acres, \"acres\")\n"
   ]
  },
  {
   "cell_type": "code",
   "execution_count": 15,
   "metadata": {},
   "outputs": [
    {
     "name": "stdout",
     "output_type": "stream",
     "text": [
      "number of containers holding one liter or less:10\n",
      "number of containers holding more than one liter:20\n",
      "Total amount to be recieved in refund will be $ 6.0\n"
     ]
    }
   ],
   "source": [
    "A=int(input(\"number of containers holding one liter or less:\"))\n",
    "B=int(input(\"number of containers holding more than one liter:\"))\n",
    "refund=A*0.10+B*0.25\n",
    "print(\"Total amount to be recieved in refund will be $\", refund)"
   ]
  },
  {
   "cell_type": "code",
   "execution_count": 5,
   "metadata": {},
   "outputs": [
    {
     "name": "stdout",
     "output_type": "stream",
     "text": [
      "The cost of the meal is $:50\n",
      "The tax is $ 3.5 he tip is $ 9.0 the grand total is $ 62\n"
     ]
    }
   ],
   "source": [
    "cost=float(input(\"The cost of the meal is $:\"))\n",
    "tax=cost*0.07\n",
    "round(tax,2)\n",
    "tip=cost*0.18\n",
    "round(tip,2)\n",
    "grand_total_for_meal=cost+tax+tip\n",
    "print(\"The tax is $\",round(tax,2),\"he tip is $\",round(tip,2), \"the grand total is $\",round(grand_total_for_meal))"
   ]
  },
  {
   "cell_type": "code",
   "execution_count": 3,
   "metadata": {},
   "outputs": [
    {
     "name": "stdout",
     "output_type": "stream",
     "text": [
      "Enter a positive interger:12\n",
      "The sum of the first 12 positive integers is 78.0\n"
     ]
    }
   ],
   "source": [
    "n=int(input(\"Enter a positive interger:\"))\n",
    "sum=n*(n+1)/2\n",
    "print(\"The sum of the first\",n,\"positive integers is\",sum,)"
   ]
  },
  {
   "cell_type": "code",
   "execution_count": 1,
   "metadata": {},
   "outputs": [
    {
     "name": "stdout",
     "output_type": "stream",
     "text": [
      "Enter the number of widgets ordered:8\n",
      "Enter the number of gizmos ordered:3\n",
      "The total weight of the order is 936.0\n"
     ]
    }
   ],
   "source": [
    "W=float(input(\"Enter the number of widgets ordered:\"))\n",
    "G=float(input(\"Enter the number of gizmos ordered:\"))\n",
    "Total_widgets_weight=W*75\n",
    "Total_gizmo_weight=G*112\n",
    "sum=Total_widgets_weight+Total_gizmo_weight\n",
    "print(\"The total weight of the order is\",sum,)"
   ]
  },
  {
   "cell_type": "code",
   "execution_count": 2,
   "metadata": {},
   "outputs": [
    {
     "name": "stdout",
     "output_type": "stream",
     "text": [
      "My intial deposit is $:500\n",
      "The amount in saving after one year is 700.0\n",
      "The amount in savings after two years is 980.0\n",
      "The amount in savings after three years is 1372.0\n"
     ]
    }
   ],
   "source": [
    "P=float(input(\"My intial deposit is $:\"))\n",
    "Interest1=(P*0.4)\n",
    "Deposit2=P+Interest1\n",
    "Interest2=Deposit2*0.4\n",
    "Deposit3=Interest2+Deposit2\n",
    "Interest3=Deposit3*0.4\n",
    "final_amount=Interest3+Deposit3\n",
    "print(\"The amount in saving after one year is\",round(Deposit2,2),)\n",
    "print(\"The amount in savings after two years is\",round(Deposit3,2),)\n",
    "print(\"The amount in savings after three years is\",round(final_amount,2))"
   ]
  },
  {
   "cell_type": "code",
   "execution_count": 4,
   "metadata": {},
   "outputs": [
    {
     "name": "stdout",
     "output_type": "stream",
     "text": [
      "Enter the value of a:20\n",
      "Enter the value of b:2\n",
      "The sum of a and b is 22\n",
      "The difference between a and b is 18\n",
      "The product of a and b is 40\n",
      "The quotient when a is divided by b is 10\n",
      "The remainder when a is divided by b is 0\n",
      "The result of log10(a) is 1.3010299956639813\n",
      "The result of expontent is 400\n"
     ]
    }
   ],
   "source": [
    "a=int(input(\"Enter the value of a:\"))\n",
    "b=int(input(\"Enter the value of b:\"))\n",
    "sum=a+b\n",
    "difference=a-b\n",
    "product=a*b\n",
    "quotient=a//b\n",
    "remainder=a%b\n",
    "from math import log10\n",
    "exponent=a**b\n",
    "print(\"The sum of a and b is\",sum,)\n",
    "print(\"The difference between a and b is\",difference,)\n",
    "print(\"The product of a and b is\",product,)\n",
    "print(\"The quotient when a is divided by b is\",quotient,)\n",
    "print(\"The remainder when a is divided by b is\",remainder,)\n",
    "print(\"The result of log10(a) is\",log10(a))\n",
    "print(\"The result of expontent is\",exponent,)\n"
   ]
  },
  {
   "cell_type": "markdown",
   "metadata": {},
   "source": [
    "## GRAPH OF SINE,COSINE AND TAN ASSIGNMENT "
   ]
  },
  {
   "cell_type": "code",
   "execution_count": 39,
   "metadata": {},
   "outputs": [],
   "source": []
  },
  {
   "cell_type": "code",
   "execution_count": 40,
   "metadata": {},
   "outputs": [],
   "source": [
    "import matplotlib.pyplot as plt"
   ]
  },
  {
   "cell_type": "code",
   "execution_count": 41,
   "metadata": {},
   "outputs": [],
   "source": [
    "import numpy as np"
   ]
  },
  {
   "cell_type": "code",
   "execution_count": 42,
   "metadata": {},
   "outputs": [],
   "source": [
    "x=np.linspace(-20,20)"
   ]
  },
  {
   "cell_type": "code",
   "execution_count": 43,
   "metadata": {},
   "outputs": [
    {
     "data": {
      "text/plain": [
       "array([-20.        , -19.18367347, -18.36734694, -17.55102041,\n",
       "       -16.73469388, -15.91836735, -15.10204082, -14.28571429,\n",
       "       -13.46938776, -12.65306122, -11.83673469, -11.02040816,\n",
       "       -10.20408163,  -9.3877551 ,  -8.57142857,  -7.75510204,\n",
       "        -6.93877551,  -6.12244898,  -5.30612245,  -4.48979592,\n",
       "        -3.67346939,  -2.85714286,  -2.04081633,  -1.2244898 ,\n",
       "        -0.40816327,   0.40816327,   1.2244898 ,   2.04081633,\n",
       "         2.85714286,   3.67346939,   4.48979592,   5.30612245,\n",
       "         6.12244898,   6.93877551,   7.75510204,   8.57142857,\n",
       "         9.3877551 ,  10.20408163,  11.02040816,  11.83673469,\n",
       "        12.65306122,  13.46938776,  14.28571429,  15.10204082,\n",
       "        15.91836735,  16.73469388,  17.55102041,  18.36734694,\n",
       "        19.18367347,  20.        ])"
      ]
     },
     "execution_count": 43,
     "metadata": {},
     "output_type": "execute_result"
    }
   ],
   "source": [
    "x"
   ]
  },
  {
   "cell_type": "code",
   "execution_count": 44,
   "metadata": {},
   "outputs": [],
   "source": [
    "x1=np.sin(x)"
   ]
  },
  {
   "cell_type": "code",
   "execution_count": 45,
   "metadata": {},
   "outputs": [
    {
     "data": {
      "text/plain": [
       "array([-0.91294525, -0.32793565,  0.4637374 ,  0.9631654 ,  0.85561127,\n",
       "        0.20885508, -0.56952055, -0.98898712, -0.78519883, -0.08658207,\n",
       "        0.66659829,  0.99969166,  0.70278422, -0.0370144 , -0.75348673,\n",
       "       -0.99511539, -0.6096272 ,  0.16004509,  0.82885774,  0.97532829,\n",
       "        0.50715171, -0.2806294 , -0.89155923, -0.94063279, -0.39692415,\n",
       "        0.39692415,  0.94063279,  0.89155923,  0.2806294 , -0.50715171,\n",
       "       -0.97532829, -0.82885774, -0.16004509,  0.6096272 ,  0.99511539,\n",
       "        0.75348673,  0.0370144 , -0.70278422, -0.99969166, -0.66659829,\n",
       "        0.08658207,  0.78519883,  0.98898712,  0.56952055, -0.20885508,\n",
       "       -0.85561127, -0.9631654 , -0.4637374 ,  0.32793565,  0.91294525])"
      ]
     },
     "execution_count": 45,
     "metadata": {},
     "output_type": "execute_result"
    }
   ],
   "source": [
    "x1"
   ]
  },
  {
   "cell_type": "code",
   "execution_count": 46,
   "metadata": {},
   "outputs": [
    {
     "data": {
      "text/plain": [
       "[<matplotlib.lines.Line2D at 0x7dbf688>]"
      ]
     },
     "execution_count": 46,
     "metadata": {},
     "output_type": "execute_result"
    },
    {
     "data": {
      "image/png": "[encoded data removed]",
      "text/plain": [
       "<Figure size 432x288 with 1 Axes>"
      ]
     },
     "metadata": {
      "needs_background": "light"
     },
     "output_type": "display_data"
    }
   ],
   "source": [
    "plt.plot(x,x1)\n"
   ]
  },
  {
   "cell_type": "code",
   "execution_count": 47,
   "metadata": {},
   "outputs": [],
   "source": [
    "x2=np.cos(x)"
   ]
  },
  {
   "cell_type": "code",
   "execution_count": 31,
   "metadata": {},
   "outputs": [
    {
     "data": {
      "text/plain": [
       "array([ 0.40808206,  0.94470006,  0.8859727 ,  0.26890966, -0.51761893,\n",
       "       -0.9779466 , -0.82197709, -0.14800163,  0.61924374,  0.99624472,\n",
       "        0.74541715,  0.02483132, -0.71140308, -0.99931473, -0.65746312,\n",
       "        0.09871854,  0.79268826,  0.98710971,  0.55945943, -0.22075945,\n",
       "       -0.8618568 , -0.9598162 , -0.45290412,  0.33942593,  0.91785141,\n",
       "        0.91785141,  0.33942593, -0.45290412, -0.9598162 , -0.8618568 ,\n",
       "       -0.22075945,  0.55945943,  0.98710971,  0.79268826,  0.09871854,\n",
       "       -0.65746312, -0.99931473, -0.71140308,  0.02483132,  0.74541715,\n",
       "        0.99624472,  0.61924374, -0.14800163, -0.82197709, -0.9779466 ,\n",
       "       -0.51761893,  0.26890966,  0.8859727 ,  0.94470006,  0.40808206])"
      ]
     },
     "execution_count": 31,
     "metadata": {},
     "output_type": "execute_result"
    }
   ],
   "source": [
    "x2"
   ]
  },
  {
   "cell_type": "code",
   "execution_count": 48,
   "metadata": {},
   "outputs": [
    {
     "data": {
      "text/plain": [
       "[<matplotlib.lines.Line2D at 0xa1ee5e0>]"
      ]
     },
     "execution_count": 48,
     "metadata": {},
     "output_type": "execute_result"
    },
    {
     "data": {
      "image/png": "[encoded data removed]",
      "text/plain": [
       "<Figure size 432x288 with 1 Axes>"
      ]
     },
     "metadata": {
      "needs_background": "light"
     },
     "output_type": "display_data"
    }
   ],
   "source": [
    "plt.plot(x,x2)\n"
   ]
  },
  {
   "cell_type": "code",
   "execution_count": 49,
   "metadata": {},
   "outputs": [],
   "source": [
    "x3=np.tan(x)"
   ]
  },
  {
   "cell_type": "code",
   "execution_count": 50,
   "metadata": {},
   "outputs": [
    {
     "data": {
      "text/plain": [
       "array([-2.23716094e+00, -3.47132023e-01,  5.23421777e-01,  3.58174342e+00,\n",
       "       -1.65297521e+00, -2.13564917e-01,  6.92866697e-01,  6.68227171e+00,\n",
       "       -1.26799640e+00, -8.69084325e-02,  8.94262080e-01,  4.02592986e+01,\n",
       "       -9.87884704e-01,  3.70397837e-02,  1.14605171e+00, -1.00803289e+01,\n",
       "       -7.69062979e-01,  1.62135055e-01,  1.48153323e+00, -4.41805907e+00,\n",
       "       -5.88440805e-01,  2.92378269e-01,  1.96853859e+00, -2.77124608e+00,\n",
       "       -4.32449242e-01,  4.32449242e-01,  2.77124608e+00, -1.96853859e+00,\n",
       "       -2.92378269e-01,  5.88440805e-01,  4.41805907e+00, -1.48153323e+00,\n",
       "       -1.62135055e-01,  7.69062979e-01,  1.00803289e+01, -1.14605171e+00,\n",
       "       -3.70397837e-02,  9.87884704e-01, -4.02592986e+01, -8.94262080e-01,\n",
       "        8.69084325e-02,  1.26799640e+00, -6.68227171e+00, -6.92866697e-01,\n",
       "        2.13564917e-01,  1.65297521e+00, -3.58174342e+00, -5.23421777e-01,\n",
       "        3.47132023e-01,  2.23716094e+00])"
      ]
     },
     "execution_count": 50,
     "metadata": {},
     "output_type": "execute_result"
    }
   ],
   "source": [
    "x3"
   ]
  },
  {
   "cell_type": "code",
   "execution_count": 51,
   "metadata": {},
   "outputs": [
    {
     "data": {
      "text/plain": [
       "[<matplotlib.lines.Line2D at 0x7e77508>]"
      ]
     },
     "execution_count": 51,
     "metadata": {},
     "output_type": "execute_result"
    },
    {
     "data": {
      "image/png": "[encoded data removed]",
      "text/plain": [
       "<Figure size 432x288 with 1 Axes>"
      ]
     },
     "metadata": {
      "needs_background": "light"
     },
     "output_type": "display_data"
    }
   ],
   "source": [
    "plt.plot(x,x3)"
   ]
  },
  {
   "cell_type": "code",
   "execution_count": 57,
   "metadata": {},
   "outputs": [
    {
     "data": {
      "text/plain": [
       "Text(0.5, 0, 'Graph of sine and cosine')"
      ]
     },
     "execution_count": 57,
     "metadata": {},
     "output_type": "execute_result"
    },
    {
     "data": {
      "image/png": "[encoded data removed]",
      "text/plain": [
       "<Figure size 432x288 with 1 Axes>"
      ]
     },
     "metadata": {
      "needs_background": "light"
     },
     "output_type": "display_data"
    }
   ],
   "source": [
    "plt.plot(x,x1,c=\"red\")\n",
    "plt.plot(x,x2,c=\"black\")\n",
    "plt.xlabel(\"Graph of sine and cosine\")"
   ]
  },
  {
   "cell_type": "code",
   "execution_count": null,
   "metadata": {},
   "outputs": [],
   "source": []
  }
 ],
 "metadata": {
  "kernelspec": {
   "display_name": "Python 3",
   "language": "python",
   "name": "python3"
  },
  "language_info": {
   "codemirror_mode": {
    "name": "ipython",
    "version": 3
   },
   "file_extension": ".py",
   "mimetype": "text/x-python",
   "name": "python",
   "nbconvert_exporter": "python",
   "pygments_lexer": "ipython3",
   "version": "3.8.5"
  }
 },
 "nbformat": 4,
 "nbformat_minor": 4
}
