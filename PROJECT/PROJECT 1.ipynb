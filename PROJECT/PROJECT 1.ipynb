{
 "cells": [
  {
   "cell_type": "markdown",
   "metadata": {},
   "source": [
    "# PROJECT 1 ; Considering the mathematical formular y=x^3 + sin(x)"
   ]
  },
  {
   "cell_type": "markdown",
   "metadata": {},
   "source": [
    "## I. Considering the simple mathematical formular\n",
    "$$y = x^3 + \\sin(x)$$\n",
    "Using numpy, generate 20 random values between 0 and 1 for the values of x i.e $x \\in [0, 1]$\n",
    "Write a function for the formular and generate the corresponding values of $y$ for the generated $x$-values above\n",
    "Visualize the plot of the given equation with the generated values\n",
    "Note: Set the numpy random seed to 10"
   ]
  },
  {
   "cell_type": "code",
   "execution_count": 2,
   "metadata": {},
   "outputs": [],
   "source": [
    " import numpy as np"
   ]
  },
  {
   "cell_type": "code",
   "execution_count": 4,
   "metadata": {},
   "outputs": [],
   "source": [
    "np.random.seed(10)\n",
    "x=np.random.rand(20) #generate 20 random values between 0 and 1"
   ]
  },
  {
   "cell_type": "code",
   "execution_count": 5,
   "metadata": {},
   "outputs": [
    {
     "data": {
      "text/plain": [
       "array([0.77132064, 0.02075195, 0.63364823, 0.74880388, 0.49850701,\n",
       "       0.22479665, 0.19806286, 0.76053071, 0.16911084, 0.08833981,\n",
       "       0.68535982, 0.95339335, 0.00394827, 0.51219226, 0.81262096,\n",
       "       0.61252607, 0.72175532, 0.29187607, 0.91777412, 0.71457578])"
      ]
     },
     "execution_count": 5,
     "metadata": {},
     "output_type": "execute_result"
    }
   ],
   "source": [
    "x"
   ]
  },
  {
   "cell_type": "code",
   "execution_count": 6,
   "metadata": {},
   "outputs": [
    {
     "data": {
      "text/plain": [
       "[array([1.15596879, 0.0207594 , 0.84650486, 1.10062286, 0.60199838,\n",
       "        0.2342679 , 0.20454023, 1.12920229, 0.17314225, 0.08891436,\n",
       "        0.95487752, 1.68198001, 0.00394832, 0.62445834, 1.26270838,\n",
       "        0.80474866, 1.03668784, 0.31261485, 1.56730088, 1.02017269])]"
      ]
     },
     "execution_count": 6,
     "metadata": {},
     "output_type": "execute_result"
    }
   ],
   "source": [
    "# creating a function for the formula\n",
    "y=[]\n",
    "def f(n):\n",
    "    y.append(n**3+np.sin(n))\n",
    "    return y\n",
    "f(x)\n",
    " "
   ]
  },
  {
   "cell_type": "code",
   "execution_count": 7,
   "metadata": {},
   "outputs": [
    {
     "data": {
      "text/plain": [
       "[array([1.15596879, 0.0207594 , 0.84650486, 1.10062286, 0.60199838,\n",
       "        0.2342679 , 0.20454023, 1.12920229, 0.17314225, 0.08891436,\n",
       "        0.95487752, 1.68198001, 0.00394832, 0.62445834, 1.26270838,\n",
       "        0.80474866, 1.03668784, 0.31261485, 1.56730088, 1.02017269])]"
      ]
     },
     "execution_count": 7,
     "metadata": {},
     "output_type": "execute_result"
    }
   ],
   "source": [
    "y"
   ]
  },
  {
   "cell_type": "code",
   "execution_count": 8,
   "metadata": {},
   "outputs": [],
   "source": [
    "# round up y to two decimal places\n",
    "y=np.round(y,2)"
   ]
  },
  {
   "cell_type": "code",
   "execution_count": 9,
   "metadata": {},
   "outputs": [
    {
     "data": {
      "text/plain": [
       "array([[1.16, 0.02, 0.85, 1.1 , 0.6 , 0.23, 0.2 , 1.13, 0.17, 0.09, 0.95,\n",
       "        1.68, 0.  , 0.62, 1.26, 0.8 , 1.04, 0.31, 1.57, 1.02]])"
      ]
     },
     "execution_count": 9,
     "metadata": {},
     "output_type": "execute_result"
    }
   ],
   "source": [
    "y"
   ]
  },
  {
   "cell_type": "code",
   "execution_count": 10,
   "metadata": {},
   "outputs": [],
   "source": [
    "# reshape list to a one dimensional array\n",
    "y=y.reshape(20,)"
   ]
  },
  {
   "cell_type": "code",
   "execution_count": 11,
   "metadata": {},
   "outputs": [
    {
     "data": {
      "text/plain": [
       "array([1.16, 0.02, 0.85, 1.1 , 0.6 , 0.23, 0.2 , 1.13, 0.17, 0.09, 0.95,\n",
       "       1.68, 0.  , 0.62, 1.26, 0.8 , 1.04, 0.31, 1.57, 1.02])"
      ]
     },
     "execution_count": 11,
     "metadata": {},
     "output_type": "execute_result"
    }
   ],
   "source": [
    "y"
   ]
  },
  {
   "cell_type": "code",
   "execution_count": 12,
   "metadata": {},
   "outputs": [],
   "source": [
    "# Visualize the formular\n",
    "import matplotlib.pyplot as plt"
   ]
  },
  {
   "cell_type": "code",
   "execution_count": 13,
   "metadata": {},
   "outputs": [
    {
     "data": {
      "text/plain": [
       "[<matplotlib.lines.Line2D at 0xb97bcb8>]"
      ]
     },
     "execution_count": 13,
     "metadata": {},
     "output_type": "execute_result"
    },
    {
     "data": {
      "image/png": "[encoded data removed]",
      "text/plain": [
       "<Figure size 432x288 with 1 Axes>"
      ]
     },
     "metadata": {
      "needs_background": "light"
     },
     "output_type": "display_data"
    }
   ],
   "source": [
    "plt.plot(x,y)"
   ]
  },
  {
   "cell_type": "code",
   "execution_count": null,
   "metadata": {},
   "outputs": [],
   "source": []
  }
 ],
 "metadata": {
  "kernelspec": {
   "display_name": "Python 3",
   "language": "python",
   "name": "python3"
  },
  "language_info": {
   "codemirror_mode": {
    "name": "ipython",
    "version": 3
   },
   "file_extension": ".py",
   "mimetype": "text/x-python",
   "name": "python",
   "nbconvert_exporter": "python",
   "pygments_lexer": "ipython3",
   "version": "3.8.5"
  }
 },
 "nbformat": 4,
 "nbformat_minor": 4
}
