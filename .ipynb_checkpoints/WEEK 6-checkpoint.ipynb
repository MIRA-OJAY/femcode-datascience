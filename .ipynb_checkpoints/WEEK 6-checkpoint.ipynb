{
 "cells": [
  {
   "cell_type": "code",
   "execution_count": 6,
   "metadata": {},
   "outputs": [],
   "source": [
    "def mean(data):\n",
    "    sum_of_numbers=0\n",
    "    for x in data:\n",
    "    for x in data:\n",
    "        sum_of_numbers=sum_of_numbers+x\n",
    "    return sum_of_numbers/len(data)"
   ]
  },
  {
   "cell_type": "code",
   "execution_count": 7,
   "metadata": {},
   "outputs": [
    {
     "data": {
      "text/plain": [
       "5.0"
      ]
     },
     "execution_count": 7,
     "metadata": {},
     "output_type": "execute_result"
    }
   ],
   "source": [
    "mean([4,6,4,6])"
   ]
  },
  {
   "cell_type": "code",
   "execution_count": 9,
   "metadata": {},
   "outputs": [],
   "source": [
    "def mean(data):\n",
    "    sum_of_numbers=0\n",
    "    for x in data:\n",
    "        sum_of_numbers+=x\n",
    "    return sum_of_numbers/len(data)"
   ]
  },
  {
   "cell_type": "code",
   "execution_count": 10,
   "metadata": {},
   "outputs": [
    {
     "data": {
      "text/plain": [
       "14"
      ]
     },
     "execution_count": 10,
     "metadata": {},
     "output_type": "execute_result"
    }
   ],
   "source": [
    "sum([3,4,2,5])"
   ]
  },
  {
   "cell_type": "code",
   "execution_count": 50,
   "metadata": {},
   "outputs": [],
   "source": [
    "def corr_num(x_data,y_data):\n",
    "    sum_x=sum(x_data)\n",
    "    sum_y=sum(y_data)\n",
    "    n=len(x_data)\n",
    "    sum_xy=0\n",
    "    for i in range(n):\n",
    "        sum_xy += x_data[i]*y_data[i]\n",
    "    return (n*sum_xy-sum_x*sum_y)\n"
   ]
  },
  {
   "cell_type": "code",
   "execution_count": 51,
   "metadata": {},
   "outputs": [
    {
     "data": {
      "text/plain": [
       "3"
      ]
     },
     "execution_count": 51,
     "metadata": {},
     "output_type": "execute_result"
    }
   ],
   "source": [
    "corr_num([4,3,1],[2,5,2])"
   ]
  },
  {
   "cell_type": "code",
   "execution_count": 65,
   "metadata": {},
   "outputs": [],
   "source": [
    "def corr_den(x_data,y_data):\n",
    "    sum_x=sum(x_data)\n",
    "    sum_y=sum(y_data)\n",
    "    n=len(x_data)\n",
    "    sum_x_sq=0\n",
    "    sum_y_sq=0\n",
    "    for i in range(n):\n",
    "        sum_x_sq +=x_data[i]**2\n",
    "        sum_y_sq +=y_data[i]**2\n",
    "    return((n*sum_x_sq-sum_x**2)*(n*sum_y_sq-sum_y**2))**0.5\n",
    "    "
   ]
  },
  {
   "cell_type": "code",
   "execution_count": 66,
   "metadata": {},
   "outputs": [
    {
     "data": {
      "text/plain": [
       "15.874507866387544"
      ]
     },
     "execution_count": 66,
     "metadata": {},
     "output_type": "execute_result"
    }
   ],
   "source": [
    "corr_den([4,3,1],[2,5,2])"
   ]
  },
  {
   "cell_type": "code",
   "execution_count": 70,
   "metadata": {},
   "outputs": [
    {
     "data": {
      "text/plain": [
       "0.1889822365046136"
      ]
     },
     "execution_count": 70,
     "metadata": {},
     "output_type": "execute_result"
    }
   ],
   "source": [
    "corr_num([4,3,1],[2,5,2])/corr_den([4,3,1],[2,5,2])"
   ]
  },
  {
   "cell_type": "code",
   "execution_count": 71,
   "metadata": {},
   "outputs": [],
   "source": [
    "def corr(x_data,y_data):\n",
    "    return (corr_num(x_data,y_data)/corr_den(x_data,y_data))"
   ]
  },
  {
   "cell_type": "code",
   "execution_count": 74,
   "metadata": {},
   "outputs": [
    {
     "data": {
      "text/plain": [
       "0.1889822365046136"
      ]
     },
     "execution_count": 74,
     "metadata": {},
     "output_type": "execute_result"
    }
   ],
   "source": [
    "corr([4,3,1],[2,5,2])"
   ]
  },
  {
   "cell_type": "code",
   "execution_count": null,
   "metadata": {},
   "outputs": [],
   "source": []
  }
 ],
 "metadata": {
  "kernelspec": {
   "display_name": "Python 3",
   "language": "python",
   "name": "python3"
  },
  "language_info": {
   "codemirror_mode": {
    "name": "ipython",
    "version": 3
   },
   "file_extension": ".py",
   "mimetype": "text/x-python",
   "name": "python",
   "nbconvert_exporter": "python",
   "pygments_lexer": "ipython3",
   "version": "3.8.5"
  }
 },
 "nbformat": 4,
 "nbformat_minor": 4
}
